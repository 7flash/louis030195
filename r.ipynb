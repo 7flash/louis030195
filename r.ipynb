{
 "cells": [
  {
   "cell_type": "code",
   "execution_count": 1,
   "metadata": {},
   "outputs": [],
   "source": [
    "url = \"https://app.napkin.one/public/XgQC29r1reVhS53v8P3aM49Ea6k2\"\n",
    "import requests\n",
    "import json\n",
    "\n",
    "r = requests.get(url)"
   ]
  },
  {
   "cell_type": "code",
   "execution_count": 7,
   "metadata": {},
   "outputs": [
    {
     "data": {
      "text/plain": [
       "'<!DOCTYPE html><html dir=\"ltr\" lang=\"en\" class=\"plt-tablet plt-desktop md\" mode=\"md\"><head> <meta charset=\"utf-8\"><style data-styles=\"\">dt-app,dt-import-overlay,dt-thought-decision-frame,dt-mobile-search,dt-nav-tags,ion-select-popover,dt-mobile-add,dt-settings-communication,dt-root,dt-manage-labels,ion-action-sheet,dt-manage-global-tags,dt-search,ion-alert,ion-back-button,ion-fab-button,ion-loading,ion-menu-button,ion-picker,ion-refresher-content,dt-create-account,dt-mobile-home,dt-test-autotag,dt-textarea-on-db,ion-card,ion-chip,ion-infinite-scroll-content,ion-item-option,ion-menu,ion-modal,ion-popover,ion-reorder,ion-searchbar,ion-segment-button,ion-tab-button,context-consumer,dt-_template,dt-auth-login,dt-label-add,dt-menu-launch-challenges,dt-mobile-app,dt-mobile-public,dt-parser,dt-thought-preview,ion-avatar,ion-badge,ion-buttons,ion-card-content,ion-card-header,ion-card-subtitle,ion-card-title,ion-col,ion-content,ion-datetime,ion-fab,ion-fab-list,ion-footer,ion-grid,ion-img,ion-infinite-scroll,ion-item-divider,ion-item-group,ion-item-options,ion-menu-toggle,ion-nav,ion-nav-link,ion-note,ion-progress-bar,ion-range,ion-refresher,ion-reorder-group,ion-route,ion-route-redirect,ion-router,ion-router-link,ion-router-outlet,ion-row,ion-segment,ion-select,ion-select-option,ion-skeleton-text,ion-slide,ion-slides,ion-split-pane,ion-tab,ion-tab-bar,ion-tabs,ion-text,ion-thumbnail,ion-title,ion-toolbar,ion-virtual-scroll,stencil-async-content,stencil-route-link,stencil-route-title,stencil-router-prompt,stencil-router-redirect,dt-beta-cockpit,dt-stack,dt-thoughts,dt-import-decision-frame,dt-thought-expanded,dt-header-menu,dt-stacks-shelf,dt-welcome,dt-mobile-thought,ion-toast,dt-info-overlay,dt-manage-global-tag,dt-background-message,dt-inbox,dt-overlay,ion-app,ion-item-sliding,ion-list-header,ion-picker-column,ion-radio,ion-radio-group,stencil-route,stencil-route-switch,stencil-router,dt-stack-section,dt-archive,dt-search-with-tags,dt-settings-public,dt-moments-launch,dt-moment-controls,dt-back-and-forth,dt-select-labels,dt-stacks-archive,dt-stack-dropzone,dt-stack-section-separator,dt-drag-over-trigger,dt-menu-min,dt-public-info,dt-stack-section-item,dt-moment-launch-button,dt-stack-compartment,dt-stack-section-dropzone,ion-button,ion-checkbox,ion-header,ion-toggle,dt-draggable-textarea,ion-label,ion-item,dt-text,ion-list,ion-backdrop,dt-container,dt-label,ion-icon,dt-icon,dt-action-buttons,dt-tag-core,dt-tag-core-with-actions,dt-node-input,dt-thought-stacks,dt-thought-tabs,dt-autotagging-status,dt-thought-relatednodes,dt-tag-preview,dt-source-url,dt-thought-urls,dt-thought-text,dt-thought-actions,dt-stack-link,dt-public-link,dt-thought-link,ion-textarea,ion-spinner,dt-tag,ion-input,dt-thought,ion-ripple-effect{visibility:hidden}.hydrated{visibility:inherit}</style> <title>Napkin</title> <meta name=\"Description\" content=\"Napkin. Be Inspired.\"> <meta name=\"viewport\" content=\"width=device-width, initial-scale=1.0, viewport-fit=cover\"> <meta name=\"apple-mobile-web-app-status-bar-style\" content=\"black-translucent\"> <meta name=\"theme-color\" content=\"#749dbe\"> <meta name=\"apple-mobile-web-app-capable\" content=\"yes\"> <!-- <meta http-equiv=\"x-ua-compatible\" content=\"IE=Edge\"> --> <script type=\"module\" src=\"/build/app.esm.js\" data-stencil=\"\"></script> <script nomodule=\"\" src=\"/build/app.js\" data-stencil=\"\"></script> <link href=\"/build/app.css\" rel=\"stylesheet\"> <link rel=\"preconnect\" href=\"https://fonts.googleapis.com\"> <link rel=\"preconnect\" href=\"https://fonts.gstatic.com\" crossorigin=\"\"> <link href=\"https://fonts.googleapis.com/css2?family=Cormorant+Garamond:wght@500&amp;family=Klee+One&amp;display=swap\" rel=\"stylesheet\"> <link rel=\"icon\" type=\"image/x-icon\" href=\"/assets/icon/favicon.png\"> <meta name=\"twitter:card\" content=\"summary_large_image\"> <meta property=\"og:url\" content=\"https://napkin.one\"> <meta property=\"og:title\" content=\"Napkin - Inspiring Thoughts on Top of Your Mind.\"> <meta property=\"og:description\" content=\"Collect thoughts, see connections, be inspired. Sign up for early access.\"> <meta id=\"og-image\" property=\"og:image\" content=\"https://app.napkin.one/assets/preview/socialpreview.jpg\"> <meta id=\"twitter-image\" property=\"twitter:image:src\" content=\"https://app.napkin.one/assets/preview/socialpreview.jpg\"> </head> <body> <!-- Preview image also used in public Napkin dynamic links --> <img src=\"assets/preview/socialpreview.jpg\" alt=\"\" style=\"display: none;\"> <dt-root></dt-root> <script>\\nif (\\'serviceWorker\\' in navigator && location.protocol !== \\'file:\\') {\\n  // auto-unregister service worker during dev mode\\n  navigator.serviceWorker.getRegistration().then(function(registration) {\\n  if (registration) {\\n    registration.unregister().then(function() { location.reload(true) });\\n  }\\n  });\\n}\\n</script></body></html>'"
      ]
     },
     "execution_count": 7,
     "metadata": {},
     "output_type": "execute_result"
    }
   ],
   "source": [
    "import asyncio\n",
    "from playwright.async_api import async_playwright\n",
    "c = None\n",
    "async with async_playwright() as p:\n",
    "    browser = await p.chromium.launch()\n",
    "    page = await browser.new_page()\n",
    "    await page.goto(url)\n",
    "    c = await page.content()\n",
    "    await page.screenshot(path=\"example.png\")\n",
    "    await browser.close()\n",
    "c"
   ]
  },
  {
   "cell_type": "code",
   "execution_count": 8,
   "metadata": {},
   "outputs": [
    {
     "ename": "AttributeError",
     "evalue": "__enter__",
     "output_type": "error",
     "traceback": [
      "\u001b[0;31m---------------------------------------------------------------------------\u001b[0m",
      "\u001b[0;31mAttributeError\u001b[0m                            Traceback (most recent call last)",
      "\u001b[1;32m/Users/louisbeaumont/Documents/louis030195/r.ipynb Cell 3'\u001b[0m in \u001b[0;36m<cell line: 14>\u001b[0;34m()\u001b[0m\n\u001b[1;32m     <a href='vscode-notebook-cell:/Users/louisbeaumont/Documents/louis030195/r.ipynb#ch0000002?line=11'>12</a>\u001b[0m     context\u001b[39m.\u001b[39mclose()\n\u001b[1;32m     <a href='vscode-notebook-cell:/Users/louisbeaumont/Documents/louis030195/r.ipynb#ch0000002?line=12'>13</a>\u001b[0m     browser\u001b[39m.\u001b[39mclose()\n\u001b[0;32m---> <a href='vscode-notebook-cell:/Users/louisbeaumont/Documents/louis030195/r.ipynb#ch0000002?line=13'>14</a>\u001b[0m \u001b[39mwith\u001b[39;00m async_playwright() \u001b[39mas\u001b[39;00m playwright:\n\u001b[1;32m     <a href='vscode-notebook-cell:/Users/louisbeaumont/Documents/louis030195/r.ipynb#ch0000002?line=14'>15</a>\u001b[0m     \u001b[39mawait\u001b[39;00m run(playwright)\n\u001b[1;32m     <a href='vscode-notebook-cell:/Users/louisbeaumont/Documents/louis030195/r.ipynb#ch0000002?line=15'>16</a>\u001b[0m \u001b[39mprint\u001b[39m(c)\n",
      "\u001b[0;31mAttributeError\u001b[0m: __enter__"
     ]
    }
   ],
   "source": [
    "async def run(playwright) -> None:\n",
    "    browser = playwright.chromium.launch(headless=False)\n",
    "    context = browser.new_context()\n",
    "    # Open new page\n",
    "    page = context.new_page()\n",
    "    # Go to https://app.napkin.one/public/XgQC29r1reVhS53v8P3aM49Ea6k2\n",
    "    page.goto(\"https://app.napkin.one/public/XgQC29r1reVhS53v8P3aM49Ea6k2\")\n",
    "    # Click dt-header-menu img >> nth=1\n",
    "    # page.locator(\"dt-header-menu img\").nth(1).click()\n",
    "    # ---------------------\n",
    "    c = await page.content()\n",
    "    context.close()\n",
    "    browser.close()\n",
    "with async_playwright() as playwright:\n",
    "    await run(playwright)\n",
    "print(c)"
   ]
  }
 ],
 "metadata": {
  "interpreter": {
   "hash": "7528521e830d9e8c671a137e68a3901a15e2f5687f9f5d6d4a6d9188bc219e91"
  },
  "kernelspec": {
   "display_name": "Python 3.9.12 ('venv': venv)",
   "language": "python",
   "name": "python3"
  },
  "language_info": {
   "codemirror_mode": {
    "name": "ipython",
    "version": 3
   },
   "file_extension": ".py",
   "mimetype": "text/x-python",
   "name": "python",
   "nbconvert_exporter": "python",
   "pygments_lexer": "ipython3",
   "version": "3.9.12"
  },
  "orig_nbformat": 4
 },
 "nbformat": 4,
 "nbformat_minor": 2
}
